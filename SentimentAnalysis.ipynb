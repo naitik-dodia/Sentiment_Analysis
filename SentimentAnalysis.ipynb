{
  "nbformat": 4,
  "nbformat_minor": 0,
  "metadata": {
    "colab": {
      "name": "SentimentAnalysis.ipynb",
      "provenance": [],
      "collapsed_sections": []
    },
    "kernelspec": {
      "name": "python3",
      "display_name": "Python 3"
    },
    "accelerator": "GPU"
  },
  "cells": [
    {
      "cell_type": "code",
      "metadata": {
        "id": "ua9x3lD5Nt7E",
        "colab_type": "code",
        "colab": {}
      },
      "source": [
        "import tensorflow as tf\n",
        "import tensorflow_datasets as tfds\n",
        "import matplotlib.pyplot as plt"
      ],
      "execution_count": 0,
      "outputs": []
    },
    {
      "cell_type": "code",
      "metadata": {
        "id": "1nCSb1p2N6gI",
        "colab_type": "code",
        "colab": {}
      },
      "source": [
        "dataset, info = tfds.load(\"imdb_reviews/subwords32k\", with_info=True,\n",
        "                          as_supervised = True)\n",
        "train, test = dataset['train'], dataset['test']"
      ],
      "execution_count": 0,
      "outputs": []
    },
    {
      "cell_type": "markdown",
      "metadata": {
        "id": "WMQ--WryCPys",
        "colab_type": "text"
      },
      "source": [
        "**Visualizing Dataset** This dataset is encoded using subword encoder so we have to decode each tensor using the encoder object to view it in text"
      ]
    },
    {
      "cell_type": "code",
      "metadata": {
        "id": "iU469jIMP2Ni",
        "colab_type": "code",
        "colab": {}
      },
      "source": [
        "encoder = info.features['text'].encoder"
      ],
      "execution_count": 0,
      "outputs": []
    },
    {
      "cell_type": "code",
      "metadata": {
        "id": "QMBi3aUmCJzm",
        "colab_type": "code",
        "colab": {
          "base_uri": "https://localhost:8080/",
          "height": 303
        },
        "outputId": "b0087924-75f2-442e-f33b-37ba28134803"
      },
      "source": [
        "for x in train.take(5):\n",
        "    print(f\"Text: {encoder.decode(x[0].numpy())}\")\n",
        "    print(f\"Sentiment: {('negative', 'positive')[x[1].numpy()]}\", end='\\n\\n')"
      ],
      "execution_count": 19,
      "outputs": [
        {
          "output_type": "stream",
          "text": [
            "Text: This was an absolutely terrible movie. Don't be lured in by Christopher Walken or Michael Ironside. Both are great actors, but this must simply be their worst role in history. Even their great acting could not redeem this movie's ridiculous storyline. This movie is an early nineties US propaganda piece. The most pathetic scenes were those when the Columbian rebels were making their cases for revolutions. Maria Conchita Alonso appeared phony, and her pseudo-love affair with Walken was nothing but a pathetic emotional plug in a movie that was devoid of any real meaning. I am disappointed that there are movies like this, ruining actor's like Christopher Walken's good name. I could barely sit through it.\n",
            "Sentiment: negative\n",
            "\n",
            "Text: I have been known to fall asleep during films, but this is usually due to a combination of things including, really tired, being warm and comfortable on the sette and having just eaten a lot. However on this occasion I fell asleep because the film was rubbish. The plot development was constant. Constantly slow and boring. Things seemed to happen, but with no explanation of what was causing them or why. I admit, I may have missed part of the film, but i watched the majority of it and everything just seemed to happen of its own accord without any real concern for anything else. I cant recommend this film at all.\n",
            "Sentiment: negative\n",
            "\n",
            "Text: Mann photographs the Alberta Rocky Mountains in a superb fashion, and Jimmy Stewart and Walter Brennan give enjoyable performances as they always seem to do. <br /><br />But come on Hollywood - a Mountie telling the people of Dawson City, Yukon to elect themselves a marshal (yes a marshal!) and to enforce the law themselves, then gunfighters battling it out on the streets for control of the town? <br /><br />Nothing even remotely resembling that happened on the Canadian side of the border during the Klondike gold rush. Mr. Mann and company appear to have mistaken Dawson City for Deadwood, the Canadian North for the American Wild West.<br /><br />Canadian viewers be prepared for a Reefer Madness type of enjoyable howl with this ludicrous plot, or, to shake your head in disgust.\n",
            "Sentiment: negative\n",
            "\n",
            "Text: This is the kind of film for a snowy Sunday afternoon when the rest of the world can go ahead with its own business as you descend into a big arm-chair and mellow for a couple of hours. Wonderful performances from Cher and Nicolas Cage (as always) gently row the plot along. There are no rapids to cross, no dangerous waters, just a warm and witty paddle through New York life at its best. A family film in every sense and one that deserves the praise it received.\n",
            "Sentiment: positive\n",
            "\n",
            "Text: As others have mentioned, all the women that go nude in this film are mostly absolutely gorgeous. The plot very ably shows the hypocrisy of the female libido. When men are around they want to be pursued, but when no \"men\" are around, they become the pursuers of a 14 year old boy. And the boy becomes a man really fast (we should all be so lucky at this age!). He then gets up the courage to pursue his true love.\n",
            "Sentiment: positive\n",
            "\n"
          ],
          "name": "stdout"
        }
      ]
    },
    {
      "cell_type": "code",
      "metadata": {
        "id": "A71eGj-Mr8v3",
        "colab_type": "code",
        "colab": {
          "base_uri": "https://localhost:8080/",
          "height": 34
        },
        "outputId": "c6cddfde-c5b3-4a2b-82ea-edb77e1ec4e9"
      },
      "source": [
        "encoder.vocab_size"
      ],
      "execution_count": 20,
      "outputs": [
        {
          "output_type": "execute_result",
          "data": {
            "text/plain": [
              "32650"
            ]
          },
          "metadata": {
            "tags": []
          },
          "execution_count": 20
        }
      ]
    },
    {
      "cell_type": "code",
      "metadata": {
        "id": "LutvXA2dOakS",
        "colab_type": "code",
        "colab": {}
      },
      "source": [
        "BUFFER_SIZE = 10000\n",
        "BATCH_SIZE = 64\n",
        "EPOCHS = 10"
      ],
      "execution_count": 0,
      "outputs": []
    },
    {
      "cell_type": "markdown",
      "metadata": {
        "id": "2LCoL0p9ClpU",
        "colab_type": "text"
      },
      "source": [
        "**Preparing Dataset** We use padding to make each data point of equal size."
      ]
    },
    {
      "cell_type": "code",
      "metadata": {
        "id": "xI7V7MerOk9A",
        "colab_type": "code",
        "colab": {}
      },
      "source": [
        "train_ds = (train\n",
        "            .shuffle(BUFFER_SIZE)\n",
        "            .padded_batch(BATCH_SIZE, padded_shapes=([None], [])))\n",
        "test_ds = (test\n",
        "           .padded_batch(BATCH_SIZE, padded_shapes=([None], [])))"
      ],
      "execution_count": 0,
      "outputs": []
    },
    {
      "cell_type": "markdown",
      "metadata": {
        "id": "sSMM3jhGBnY1",
        "colab_type": "text"
      },
      "source": [
        "**Training and Testing a sample model**"
      ]
    },
    {
      "cell_type": "code",
      "metadata": {
        "id": "jQJ1I-jWPDiQ",
        "colab_type": "code",
        "colab": {}
      },
      "source": [
        "model = tf.keras.Sequential()\n",
        "model.add(tf.keras.layers.Embedding(input_dim = encoder.vocab_size,output_dim = 64))\n",
        "model.add(tf.keras.layers.Bidirectional(tf.keras.layers.LSTM(64)))\n",
        "model.add(tf.keras.layers.Dense(64, activation=\"relu\"))\n",
        "model.add(tf.keras.layers.Dense(1, activation=\"sigmoid\"))"
      ],
      "execution_count": 0,
      "outputs": []
    },
    {
      "cell_type": "code",
      "metadata": {
        "id": "X_drrPRQPjmU",
        "colab_type": "code",
        "colab": {
          "base_uri": "https://localhost:8080/",
          "height": 301
        },
        "outputId": "c29c9278-3c18-4e67-b80d-94c902156280"
      },
      "source": [
        "model.summary()"
      ],
      "execution_count": 24,
      "outputs": [
        {
          "output_type": "stream",
          "text": [
            "Model: \"sequential_2\"\n",
            "_________________________________________________________________\n",
            "Layer (type)                 Output Shape              Param #   \n",
            "=================================================================\n",
            "embedding_2 (Embedding)      (None, None, 64)          2089600   \n",
            "_________________________________________________________________\n",
            "bidirectional_2 (Bidirection (None, 128)               66048     \n",
            "_________________________________________________________________\n",
            "dense_5 (Dense)              (None, 64)                8256      \n",
            "_________________________________________________________________\n",
            "dense_6 (Dense)              (None, 1)                 65        \n",
            "=================================================================\n",
            "Total params: 2,163,969\n",
            "Trainable params: 2,163,969\n",
            "Non-trainable params: 0\n",
            "_________________________________________________________________\n"
          ],
          "name": "stdout"
        }
      ]
    },
    {
      "cell_type": "code",
      "metadata": {
        "id": "LcTuVmYpQchB",
        "colab_type": "code",
        "colab": {}
      },
      "source": [
        "model.compile(loss = tf.keras.losses.BinaryCrossentropy(from_logits=False),\n",
        "              optimizer=tf.keras.optimizers.Adam(1e-4),\n",
        "              metrics = [\"accuracy\"])"
      ],
      "execution_count": 0,
      "outputs": []
    },
    {
      "cell_type": "code",
      "metadata": {
        "id": "8eZVOO_IQMjV",
        "colab_type": "code",
        "colab": {
          "base_uri": "https://localhost:8080/",
          "height": 87
        },
        "outputId": "63dc0216-5fa5-407f-b71f-cee26d5c4f54"
      },
      "source": [
        "history = model.fit(train_ds, epochs=2,\n",
        "                    validation_data = test_ds)"
      ],
      "execution_count": 26,
      "outputs": [
        {
          "output_type": "stream",
          "text": [
            "Epoch 1/2\n",
            "391/391 [==============================] - 57s 145ms/step - loss: 0.6316 - accuracy: 0.6222 - val_loss: 0.4421 - val_accuracy: 0.8096\n",
            "Epoch 2/2\n",
            "391/391 [==============================] - 57s 146ms/step - loss: 0.3142 - accuracy: 0.8808 - val_loss: 0.3265 - val_accuracy: 0.8678\n"
          ],
          "name": "stdout"
        }
      ]
    },
    {
      "cell_type": "markdown",
      "metadata": {
        "id": "eK0vPsAPBulY",
        "colab_type": "text"
      },
      "source": [
        "Function for plotting graphs"
      ]
    },
    {
      "cell_type": "code",
      "metadata": {
        "id": "GJVP_Gwac13x",
        "colab_type": "code",
        "colab": {}
      },
      "source": [
        "def plot_graphs(history, metric):\n",
        "    plt.plot(history.history[metric])\n",
        "    plt.plot(history.history['val_'+metric], '')\n",
        "    plt.xlabel(\"Epochs\")\n",
        "    plt.ylabel(metric)\n",
        "    plt.legend([metric, 'val_'+metric])\n",
        "    plt.grid(True)\n",
        "    plt.show()"
      ],
      "execution_count": 0,
      "outputs": []
    },
    {
      "cell_type": "code",
      "metadata": {
        "id": "HxZNxkYUc4CS",
        "colab_type": "code",
        "colab": {
          "base_uri": "https://localhost:8080/",
          "height": 278
        },
        "outputId": "b0242c04-6adb-4a42-d173-621edb31ac5c"
      },
      "source": [
        "plot_graphs(history, 'accuracy')"
      ],
      "execution_count": 28,
      "outputs": [
        {
          "output_type": "display_data",
          "data": {
            "image/png": "[encoded data removed]",
            "text/plain": [
              "<Figure size 432x288 with 1 Axes>"
            ]
          },
          "metadata": {
            "tags": [],
            "needs_background": "light"
          }
        }
      ]
    },
    {
      "cell_type": "markdown",
      "metadata": {
        "id": "2GNjMn4J_S6u",
        "colab_type": "text"
      },
      "source": [
        "**Comparision of SimpleRNN vs LSTM vs GRU models.** \n",
        "Keeping other things same in the model. This model is basic with no regularization or dropout"
      ]
    },
    {
      "cell_type": "code",
      "metadata": {
        "id": "rQEh8UZ6QauF",
        "colab_type": "code",
        "colab": {}
      },
      "source": [
        "from tensorflow.keras.regularizers import l2\n",
        "def sentiment_model(input_shape, rnn_layer_type = \"LSTM\"):\n",
        "    \"\"\"\n",
        "    RNN based model for sentient prediction.\n",
        "\n",
        "    Args:\n",
        "    input_shape: input shape for the encoder layer. It is basically your vocabulary size\n",
        "    rnn_layer_type: Type of the rnn layer to use. One of [`LSTM`, `RNN`, `GRU`]\n",
        "\n",
        "    Returns:\n",
        "    Uncompiled Keras model\n",
        "\n",
        "    \"\"\"\n",
        "    model = tf.keras.models.Sequential()\n",
        "    model.add(tf.keras.layers.Embedding(input_shape, output_dim = 128))\n",
        "    rnn = None\n",
        "    if rnn_layer_type == \"RNN\":\n",
        "        rnn = tf.keras.layers.SimpleRNN(64)\n",
        "    elif rnn_layer_type == \"LSTM\":\n",
        "        rnn = tf.keras.layers.LSTM(64)\n",
        "    elif rnn_layer_type == \"GRU\":\n",
        "        rnn = tf.keras.layers.GRU(64)\n",
        "    else:\n",
        "        print(\"Enter valid rnn_layer_type: One of [`LSTM`, `RNN`, `GRU`]\")\n",
        "        return None\n",
        "    model.add(tf.keras.layers.Bidirectional(rnn))\n",
        "    model.add(tf.keras.layers.Dense(64, activation=\"relu\", kernel_regularizer=l2()))\n",
        "    model.add(tf.keras.layers.Dropout(0.4))\n",
        "    model.add(tf.keras.layers.Dense(8, activation=\"relu\", kernel_regularizer=l2()))\n",
        "    model.add(tf.keras.layers.Dropout(0.4))\n",
        "    model.add(tf.keras.layers.Dense(1, activation=\"sigmoid\"))\n",
        "    return model"
      ],
      "execution_count": 0,
      "outputs": []
    },
    {
      "cell_type": "code",
      "metadata": {
        "id": "bf1-p6HEs_Q3",
        "colab_type": "code",
        "colab": {}
      },
      "source": [
        "early_stop = tf.keras.callbacks.EarlyStopping(monitor='val_accuracy', patience=2,\n",
        "                                              min_delta=0.001,\n",
        "                                              restore_best_weights=True)\n",
        "callbacks_lst = [early_stop]"
      ],
      "execution_count": 0,
      "outputs": []
    },
    {
      "cell_type": "code",
      "metadata": {
        "id": "H2ArtNCjVu0u",
        "colab_type": "code",
        "colab": {
          "base_uri": "https://localhost:8080/",
          "height": 372
        },
        "outputId": "115720e7-7574-41ab-a904-02e0986cdf6f"
      },
      "source": [
        "lstm_model = sentiment_model(encoder.vocab_size, rnn_layer_type=\"LSTM\")\n",
        "lstm_model.compile(loss=tf.keras.losses.BinaryCrossentropy(from_logits=False),\n",
        "                  optimizer = tf.keras.optimizers.Adam(1e-4),\n",
        "                  metrics = [\"accuracy\"]\n",
        "                  )\n",
        "lstm_history = lstm_model.fit(train_ds, epochs=EPOCHS,\n",
        "                              validation_data = test_ds,\n",
        "                              call_backs=callbacks_lst)"
      ],
      "execution_count": 34,
      "outputs": [
        {
          "output_type": "stream",
          "text": [
            "Epoch 1/10\n",
            "391/391 [==============================] - 71s 180ms/step - loss: 1.4280 - accuracy: 0.5205 - val_loss: 1.2082 - val_accuracy: 0.6222\n",
            "Epoch 2/10\n",
            "391/391 [==============================] - 71s 182ms/step - loss: 1.0383 - accuracy: 0.6332 - val_loss: 0.9860 - val_accuracy: 0.5027\n",
            "Epoch 3/10\n",
            "391/391 [==============================] - 72s 183ms/step - loss: 0.8129 - accuracy: 0.7010 - val_loss: 0.6435 - val_accuracy: 0.8096\n",
            "Epoch 4/10\n",
            "391/391 [==============================] - 72s 183ms/step - loss: 0.5489 - accuracy: 0.8502 - val_loss: 0.4825 - val_accuracy: 0.8546\n",
            "Epoch 5/10\n",
            "391/391 [==============================] - 72s 184ms/step - loss: 0.4039 - accuracy: 0.9038 - val_loss: 0.4254 - val_accuracy: 0.8691\n",
            "Epoch 6/10\n",
            "391/391 [==============================] - 72s 183ms/step - loss: 0.3320 - accuracy: 0.9249 - val_loss: 0.4208 - val_accuracy: 0.8698\n",
            "Epoch 7/10\n",
            "391/391 [==============================] - 71s 183ms/step - loss: 0.2717 - accuracy: 0.9462 - val_loss: 0.4098 - val_accuracy: 0.8705\n",
            "Epoch 8/10\n",
            "391/391 [==============================] - 71s 182ms/step - loss: 0.2494 - accuracy: 0.9522 - val_loss: 0.4165 - val_accuracy: 0.8678\n",
            "Epoch 9/10\n",
            "391/391 [==============================] - 71s 182ms/step - loss: 0.2296 - accuracy: 0.9564 - val_loss: 0.4519 - val_accuracy: 0.8652\n",
            "Epoch 10/10\n",
            "391/391 [==============================] - 71s 182ms/step - loss: 0.1906 - accuracy: 0.9716 - val_loss: 0.4643 - val_accuracy: 0.8655\n"
          ],
          "name": "stdout"
        }
      ]
    },
    {
      "cell_type": "code",
      "metadata": {
        "id": "zmntFm4BDreX",
        "colab_type": "code",
        "colab": {
          "base_uri": "https://localhost:8080/",
          "height": 407
        },
        "outputId": "db288838-a474-4e7a-b1a2-9f2356359449"
      },
      "source": [
        "lstm_model.summary()"
      ],
      "execution_count": 35,
      "outputs": [
        {
          "output_type": "stream",
          "text": [
            "Model: \"sequential_5\"\n",
            "_________________________________________________________________\n",
            "Layer (type)                 Output Shape              Param #   \n",
            "=================================================================\n",
            "embedding_5 (Embedding)      (None, None, 128)         4179200   \n",
            "_________________________________________________________________\n",
            "bidirectional_5 (Bidirection (None, 128)               98816     \n",
            "_________________________________________________________________\n",
            "dense_13 (Dense)             (None, 64)                8256      \n",
            "_________________________________________________________________\n",
            "dropout_6 (Dropout)          (None, 64)                0         \n",
            "_________________________________________________________________\n",
            "dense_14 (Dense)             (None, 8)                 520       \n",
            "_________________________________________________________________\n",
            "dropout_7 (Dropout)          (None, 8)                 0         \n",
            "_________________________________________________________________\n",
            "dense_15 (Dense)             (None, 1)                 9         \n",
            "=================================================================\n",
            "Total params: 4,286,801\n",
            "Trainable params: 4,286,801\n",
            "Non-trainable params: 0\n",
            "_________________________________________________________________\n"
          ],
          "name": "stdout"
        }
      ]
    },
    {
      "cell_type": "code",
      "metadata": {
        "id": "IFkRewWzh14G",
        "colab_type": "code",
        "colab": {
          "base_uri": "https://localhost:8080/",
          "height": 278
        },
        "outputId": "0bf26375-82c5-43f7-88c6-f6bd5d6137d6"
      },
      "source": [
        "plot_graphs(lstm_history, 'accuracy')"
      ],
      "execution_count": 36,
      "outputs": [
        {
          "output_type": "display_data",
          "data": {
            "image/png": "[encoded data removed]",
            "text/plain": [
              "<Figure size 432x288 with 1 Axes>"
            ]
          },
          "metadata": {
            "tags": [],
            "needs_background": "light"
          }
        }
      ]
    },
    {
      "cell_type": "code",
      "metadata": {
        "id": "ZBf57_Y6iAQZ",
        "colab_type": "code",
        "colab": {
          "base_uri": "https://localhost:8080/",
          "height": 278
        },
        "outputId": "3726c259-1551-49ea-f2d5-5701b439ea7a"
      },
      "source": [
        "plot_graphs(lstm_history, 'loss')"
      ],
      "execution_count": 37,
      "outputs": [
        {
          "output_type": "display_data",
          "data": {
            "image/png": "[encoded data removed]",
            "text/plain": [
              "<Figure size 432x288 with 1 Axes>"
            ]
          },
          "metadata": {
            "tags": [],
            "needs_background": "light"
          }
        }
      ]
    },
    {
      "cell_type": "code",
      "metadata": {
        "id": "Y-vUHXQdWCYU",
        "colab_type": "code",
        "colab": {
          "base_uri": "https://localhost:8080/",
          "height": 372
        },
        "outputId": "a9d85ae9-a46b-4222-cffc-d07d61d8bb81"
      },
      "source": [
        "gru_model = sentiment_model(encoder.vocab_size, rnn_layer_type=\"GRU\")\n",
        "gru_model.compile(loss=tf.keras.losses.BinaryCrossentropy(from_logits=False),\n",
        "                  optimizer = tf.keras.optimizers.Adam(1e-4),\n",
        "                  metrics = [\"accuracy\"]\n",
        "                  )\n",
        "gru_history = gru_model.fit(train_ds, epochs=EPOCHS,\n",
        "                            validation_data = test_ds,\n",
        "                            callbacks=callbacks_lst)"
      ],
      "execution_count": 39,
      "outputs": [
        {
          "output_type": "stream",
          "text": [
            "Epoch 1/10\n",
            "391/391 [==============================] - 70s 178ms/step - loss: 1.4375 - accuracy: 0.5063 - val_loss: 1.2240 - val_accuracy: 0.5483\n",
            "Epoch 2/10\n",
            "391/391 [==============================] - 69s 176ms/step - loss: 1.0772 - accuracy: 0.5662 - val_loss: 0.9477 - val_accuracy: 0.6221\n",
            "Epoch 3/10\n",
            "391/391 [==============================] - 69s 177ms/step - loss: 0.7962 - accuracy: 0.7162 - val_loss: 0.7434 - val_accuracy: 0.7220\n",
            "Epoch 4/10\n",
            "391/391 [==============================] - 68s 175ms/step - loss: 0.5604 - accuracy: 0.8362 - val_loss: 0.5270 - val_accuracy: 0.8235\n",
            "Epoch 5/10\n",
            "391/391 [==============================] - 68s 175ms/step - loss: 0.4135 - accuracy: 0.8962 - val_loss: 0.5063 - val_accuracy: 0.8145\n",
            "Epoch 6/10\n",
            "391/391 [==============================] - 68s 175ms/step - loss: 0.3300 - accuracy: 0.9302 - val_loss: 0.4672 - val_accuracy: 0.8372\n",
            "Epoch 7/10\n",
            "391/391 [==============================] - 68s 174ms/step - loss: 0.2726 - accuracy: 0.9493 - val_loss: 0.4688 - val_accuracy: 0.8396\n",
            "Epoch 8/10\n",
            "391/391 [==============================] - 69s 175ms/step - loss: 0.2312 - accuracy: 0.9625 - val_loss: 0.4969 - val_accuracy: 0.8432\n",
            "Epoch 9/10\n",
            "391/391 [==============================] - 68s 175ms/step - loss: 0.1978 - accuracy: 0.9714 - val_loss: 0.5349 - val_accuracy: 0.8396\n",
            "Epoch 10/10\n",
            "391/391 [==============================] - 68s 175ms/step - loss: 0.1693 - accuracy: 0.9750 - val_loss: 0.5713 - val_accuracy: 0.8344\n"
          ],
          "name": "stdout"
        }
      ]
    },
    {
      "cell_type": "code",
      "metadata": {
        "id": "hXHrc-GuD0lM",
        "colab_type": "code",
        "colab": {
          "base_uri": "https://localhost:8080/",
          "height": 407
        },
        "outputId": "02bcbe7e-de59-4592-c6c7-75936c993254"
      },
      "source": [
        "gru_model.summary()"
      ],
      "execution_count": 40,
      "outputs": [
        {
          "output_type": "stream",
          "text": [
            "Model: \"sequential_7\"\n",
            "_________________________________________________________________\n",
            "Layer (type)                 Output Shape              Param #   \n",
            "=================================================================\n",
            "embedding_7 (Embedding)      (None, None, 128)         4179200   \n",
            "_________________________________________________________________\n",
            "bidirectional_7 (Bidirection (None, 128)               74496     \n",
            "_________________________________________________________________\n",
            "dense_19 (Dense)             (None, 64)                8256      \n",
            "_________________________________________________________________\n",
            "dropout_10 (Dropout)         (None, 64)                0         \n",
            "_________________________________________________________________\n",
            "dense_20 (Dense)             (None, 8)                 520       \n",
            "_________________________________________________________________\n",
            "dropout_11 (Dropout)         (None, 8)                 0         \n",
            "_________________________________________________________________\n",
            "dense_21 (Dense)             (None, 1)                 9         \n",
            "=================================================================\n",
            "Total params: 4,262,481\n",
            "Trainable params: 4,262,481\n",
            "Non-trainable params: 0\n",
            "_________________________________________________________________\n"
          ],
          "name": "stdout"
        }
      ]
    },
    {
      "cell_type": "code",
      "metadata": {
        "id": "4X5woe8HX2o4",
        "colab_type": "code",
        "colab": {
          "base_uri": "https://localhost:8080/",
          "height": 278
        },
        "outputId": "c5329101-a7bd-4bdf-da8d-5af509047553"
      },
      "source": [
        "plot_graphs(gru_history, 'accuracy')"
      ],
      "execution_count": 41,
      "outputs": [
        {
          "output_type": "display_data",
          "data": {
            "image/png": "[encoded data removed]",
            "text/plain": [
              "<Figure size 432x288 with 1 Axes>"
            ]
          },
          "metadata": {
            "tags": [],
            "needs_background": "light"
          }
        }
      ]
    },
    {
      "cell_type": "code",
      "metadata": {
        "id": "zXzmKFdSj5_H",
        "colab_type": "code",
        "colab": {
          "base_uri": "https://localhost:8080/",
          "height": 278
        },
        "outputId": "624f7330-d18b-422a-b2cd-d200eba922e7"
      },
      "source": [
        "plot_graphs(gru_history, 'loss')"
      ],
      "execution_count": 42,
      "outputs": [
        {
          "output_type": "display_data",
          "data": {
            "image/png": "[encoded data removed]",
            "text/plain": [
              "<Figure size 432x288 with 1 Axes>"
            ]
          },
          "metadata": {
            "tags": [],
            "needs_background": "light"
          }
        }
      ]
    },
    {
      "cell_type": "code",
      "metadata": {
        "id": "LWyoClWYknGs",
        "colab_type": "code",
        "colab": {}
      },
      "source": [
        ""
      ],
      "execution_count": 0,
      "outputs": []
    }
  ]
}